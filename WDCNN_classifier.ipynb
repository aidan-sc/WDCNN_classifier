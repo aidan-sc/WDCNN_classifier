{
  "cells": [
    {
      "cell_type": "markdown",
      "metadata": {
        "id": "view-in-github",
        "colab_type": "text"
      },
      "source": [
        "<a href=\"https://colab.research.google.com/github/aidan-sc/WDCNN_classifier/blob/main/WDCNN_classifier.ipynb\" target=\"_parent\"><img src=\"https://colab.research.google.com/assets/colab-badge.svg\" alt=\"Open In Colab\"/></a>"
      ]
    },
    {
      "cell_type": "markdown",
      "metadata": {
        "id": "82b5be2e-bf06-4fca-a12a-ee6d11f6236c"
      },
      "source": [
        "## Data preprocessing"
      ],
      "id": "82b5be2e-bf06-4fca-a12a-ee6d11f6236c"
    },
    {
      "cell_type": "code",
      "execution_count": null,
      "metadata": {
        "id": "g0Ho4HGvROgD"
      },
      "outputs": [],
      "source": [
        "from google.colab import drive\n",
        "drive.mount('/content/drive')\n",
        "\n",
        "import os\n",
        "print(f\"cwd:{os.getcwd()}\")\n",
        "\n",
        "if os.getcwd() != 'content/drive/MyDrive/paderborn':\n",
        "  os.chdir('./drive/MyDrive/paderborn')"
      ],
      "id": "g0Ho4HGvROgD"
    },
    {
      "cell_type": "code",
      "source": [
        "import time\n",
        "startTime = time.time()"
      ],
      "metadata": {
        "id": "-ER9a2gq67rO"
      },
      "id": "-ER9a2gq67rO",
      "execution_count": null,
      "outputs": []
    },
    {
      "cell_type": "code",
      "execution_count": null,
      "metadata": {
        "id": "1068b362-f7d9-4ad4-a029-bfac21d2e283"
      },
      "outputs": [],
      "source": [
        "import numpy as np\n",
        "\n",
        "from paderborn_data_loader import PaderbornData"
      ],
      "id": "1068b362-f7d9-4ad4-a029-bfac21d2e283"
    },
    {
      "cell_type": "code",
      "execution_count": null,
      "metadata": {
        "id": "0baed5e2-8584-4abb-b268-7332028b156c"
      },
      "outputs": [],
      "source": [
        "!pip3 install keras-visualizer\n",
        "from keras_visualizer import visualizer"
      ],
      "id": "0baed5e2-8584-4abb-b268-7332028b156c"
    },
    {
      "cell_type": "markdown",
      "metadata": {
        "id": "1cf618b6-d37b-4d4c-9efa-78f3428a603a"
      },
      "source": [
        "### Split the Paderborn bearing data into training and testing sets"
      ],
      "id": "1cf618b6-d37b-4d4c-9efa-78f3428a603a"
    },
    {
      "cell_type": "code",
      "execution_count": null,
      "metadata": {
        "id": "7842d151-ee4b-44f1-9742-480665bf11c4"
      },
      "outputs": [],
      "source": [
        "root_dir = './data/raw/'\n",
        "experiment = PaderbornData(root_dir, experiment='artificial', datastream='vibration', normalisation='robust-zscore')\n",
        "x_train, y_train, x_test, y_test = experiment.split_data(250000,\n",
        "                                                         train_fraction=0.5,\n",
        "                                                         window_step=1024,\n",
        "                                                         window_length=4500,\n",
        "                                                         verbose=False)"
      ],
      "id": "7842d151-ee4b-44f1-9742-480665bf11c4"
    },
    {
      "cell_type": "code",
      "execution_count": null,
      "metadata": {
        "id": "09d387f6-3e7a-45a9-aab0-c26ce09fcb32"
      },
      "outputs": [],
      "source": [
        "print(x_train.shape)\n",
        "print(y_train.shape)"
      ],
      "id": "09d387f6-3e7a-45a9-aab0-c26ce09fcb32"
    },
    {
      "cell_type": "code",
      "execution_count": null,
      "metadata": {
        "id": "6cf15d93-c664-4e65-9ec3-f298260771cc"
      },
      "outputs": [],
      "source": [],
      "id": "6cf15d93-c664-4e65-9ec3-f298260771cc"
    },
    {
      "cell_type": "markdown",
      "metadata": {
        "id": "694b77ea-7693-49ab-ad99-8dc40539a46a"
      },
      "source": [
        "## Train our WDCNN model\n",
        "\n",
        "### First split the data, scale it, and convert labels to one hot encoding"
      ],
      "id": "694b77ea-7693-49ab-ad99-8dc40539a46a"
    },
    {
      "cell_type": "code",
      "execution_count": null,
      "metadata": {
        "id": "7786d99c-d506-43ea-80d0-b68f7da7af30"
      },
      "outputs": [],
      "source": [
        "import pandas as pd\n",
        "import numpy as np\n",
        "import os\n",
        "\n",
        "import matplotlib.pyplot as plt\n",
        "\n",
        "import tensorflow as tf"
      ],
      "id": "7786d99c-d506-43ea-80d0-b68f7da7af30"
    },
    {
      "cell_type": "code",
      "execution_count": null,
      "metadata": {
        "id": "6fd06706-50cf-4afb-9954-46c464e5c14c"
      },
      "outputs": [],
      "source": [
        "from tensorflow.keras.utils import to_categorical\n",
        "\n",
        "y_train = to_categorical(y_train)\n",
        "y_test = to_categorical(y_test)"
      ],
      "id": "6fd06706-50cf-4afb-9954-46c464e5c14c"
    },
    {
      "cell_type": "code",
      "execution_count": null,
      "metadata": {
        "id": "8159a97e-a57e-417a-9b88-545752cde565"
      },
      "outputs": [],
      "source": [],
      "id": "8159a97e-a57e-417a-9b88-545752cde565"
    },
    {
      "cell_type": "markdown",
      "metadata": {
        "id": "80104235-d9ed-4e5d-89e3-cddaaaa50056"
      },
      "source": [
        "### Build our WDCNN model"
      ],
      "id": "80104235-d9ed-4e5d-89e3-cddaaaa50056"
    },
    {
      "cell_type": "code",
      "execution_count": null,
      "metadata": {
        "id": "c4ebed56-3feb-4a1e-9640-7e78eab68be3"
      },
      "outputs": [],
      "source": [
        "from tensorflow.keras.models import Model\n",
        "\n",
        "from tensorflow.keras.layers import Input\n",
        "from tensorflow.keras.layers import Dense\n",
        "from tensorflow.keras.layers import Activation\n",
        "from tensorflow.keras.layers import Conv1D\n",
        "from tensorflow.keras.layers import BatchNormalization\n",
        "from tensorflow.keras.layers import Flatten\n",
        "from tensorflow.keras.layers import MaxPooling1D\n",
        "\n",
        "from tensorflow.keras.layers import Dropout\n",
        "\n",
        "# build the wdcnn model\n",
        "def generate_model(n_class, n_timesteps, n_variables, first_kernel=64, strides=16):\n",
        "\n",
        "    # set up the shape of the input\n",
        "    ip = Input(shape=(n_timesteps, n_variables))\n",
        "\n",
        "    # convolutional layers\n",
        "    y = Conv1D(16, (first_kernel), strides=strides, padding='same')(ip)\n",
        "    y = Activation('relu')(y)\n",
        "    y = BatchNormalization()(y)\n",
        "    y = MaxPooling1D(2, strides=2, padding='same')(y)\n",
        "\n",
        "    y = Conv1D(32, (3), padding='same')(y)\n",
        "    y = Activation('relu')(y)\n",
        "    y = BatchNormalization()(y)\n",
        "    y = MaxPooling1D(2, strides=2, padding='same')(y)\n",
        "\n",
        "    y = Conv1D(64, (3), padding='same')(y)\n",
        "    y = Activation('relu')(y)\n",
        "    y = BatchNormalization()(y)\n",
        "    y = MaxPooling1D(2, strides=2, padding='same')(y)\n",
        "\n",
        "    y = Conv1D(64, (3), padding='same')(y)\n",
        "    y = Activation('relu')(y)\n",
        "    y = BatchNormalization()(y)\n",
        "    y = MaxPooling1D(2, strides=2, padding='same')(y)\n",
        "\n",
        "    y = Conv1D(64, (3), padding='same')(y)\n",
        "    y = Activation('relu')(y)\n",
        "    y = BatchNormalization()(y)\n",
        "    y = MaxPooling1D(2, strides=2, padding='same')(y)\n",
        "\n",
        "    # flatten\n",
        "    y = Flatten()(y)\n",
        "\n",
        "    # dense\n",
        "    y = Dense(100)(y)\n",
        "    y = BatchNormalization()(y)\n",
        "\n",
        "    # add the softmax classification outpuy\n",
        "    out = Dense(n_class, activation='softmax')(y)\n",
        "\n",
        "    # join the input and the output and return the model\n",
        "    model = Model(ip, out)\n",
        "\n",
        "   # visualizer(model, file_name='graph01', file_format='png', view=True)\n",
        "    return model\n"
      ],
      "id": "c4ebed56-3feb-4a1e-9640-7e78eab68be3"
    },
    {
      "cell_type": "code",
      "execution_count": null,
      "metadata": {
        "id": "79ca736a-d4df-4afa-be7b-efd679c44bb7"
      },
      "outputs": [],
      "source": [
        "model = generate_model(3, x_train.shape[1], x_train.shape[2], first_kernel=256, strides=8)"
      ],
      "id": "79ca736a-d4df-4afa-be7b-efd679c44bb7"
    },
    {
      "cell_type": "code",
      "source": [
        "import numpy as np\n",
        "\n",
        "import keras.backend as K\n",
        "\n",
        "from keras.callbacks import Callback\n",
        "\n",
        "class CyclicLR(Callback):\n",
        "    \"\"\"This callback implements a cyclical learning rate policy (CLR).\n",
        "    The method cycles the learning rate between two boundaries with\n",
        "    some constant frequency, as detailed in this paper (https://arxiv.org/abs/1506.01186).\n",
        "    The amplitude of the cycle can be scaled on a per-iteration or\n",
        "    per-cycle basis.\n",
        "    This class has three built-in policies, as put forth in the paper.\n",
        "    \"triangular\":\n",
        "        A basic triangular cycle w/ no amplitude scaling.\n",
        "    \"triangular2\":\n",
        "        A basic triangular cycle that scales initial amplitude by half each cycle.\n",
        "    \"exp_range\":\n",
        "        A cycle that scales initial amplitude by gamma**(cycle iterations) at each\n",
        "        cycle iteration.\n",
        "    For more detail, please see paper.\n",
        "\n",
        "    # Example\n",
        "        ```python\n",
        "            clr = CyclicLR(base_lr=0.001, max_lr=0.006,\n",
        "                                step_size=2000., mode='triangular')\n",
        "            model.fit(X_train, Y_train, callbacks=[clr])\n",
        "        ```\n",
        "\n",
        "    Class also supports custom scaling functions:\n",
        "        ```python\n",
        "            clr_fn = lambda x: 0.5*(1+np.sin(x*np.pi/2.))\n",
        "            clr = CyclicLR(base_lr=0.001, max_lr=0.006,\n",
        "                                step_size=2000., scale_fn=clr_fn,\n",
        "                                scale_mode='cycle')\n",
        "            model.fit(X_train, Y_train, callbacks=[clr])\n",
        "        ```\n",
        "    # Arguments\n",
        "        base_lr: initial learning rate which is the\n",
        "            lower boundary in the cycle.\n",
        "        max_lr: upper boundary in the cycle. Functionally,\n",
        "            it defines the cycle amplitude (max_lr - base_lr).\n",
        "            The lr at any cycle is the sum of base_lr\n",
        "            and some scaling of the amplitude; therefore\n",
        "            max_lr may not actually be reached depending on\n",
        "            scaling function.\n",
        "        step_size: number of training iterations per\n",
        "            half cycle. Authors suggest setting step_size\n",
        "            2-8 x training iterations in epoch.\n",
        "        mode: one of {triangular, triangular2, exp_range}.\n",
        "            Default 'triangular'.\n",
        "            Values correspond to policies detailed above.\n",
        "            If scale_fn is not None, this argument is ignored.\n",
        "        gamma: constant in 'exp_range' scaling function:\n",
        "            gamma**(cycle iterations)\n",
        "        scale_fn: Custom scaling policy defined by a single\n",
        "            argument lambda function, where\n",
        "            0 <= scale_fn(x) <= 1 for all x >= 0.\n",
        "            mode paramater is ignored\n",
        "        scale_mode: {'cycle', 'iterations'}.\n",
        "            Defines whether scale_fn is evaluated on\n",
        "            cycle number or cycle iterations (training\n",
        "            iterations since start of cycle). Default is 'cycle'.\n",
        "    \"\"\"\n",
        "\n",
        "    def __init__(self, base_lr=0.001, max_lr=0.006, step_size=2000., mode='triangular',\n",
        "                 gamma=1., scale_fn=None, scale_mode='cycle'):\n",
        "        super(CyclicLR, self).__init__()\n",
        "\n",
        "        self.base_lr = base_lr\n",
        "        self.max_lr = max_lr\n",
        "        self.step_size = step_size\n",
        "        self.mode = mode\n",
        "        self.gamma = gamma\n",
        "        if scale_fn == None:\n",
        "            if self.mode == 'triangular':\n",
        "                self.scale_fn = lambda x: 1.\n",
        "                self.scale_mode = 'cycle'\n",
        "            elif self.mode == 'triangular2':\n",
        "                self.scale_fn = lambda x: 1/(2.**(x-1))\n",
        "                self.scale_mode = 'cycle'\n",
        "            elif self.mode == 'exp_range':\n",
        "                self.scale_fn = lambda x: gamma**(x)\n",
        "                self.scale_mode = 'iterations'\n",
        "        else:\n",
        "            self.scale_fn = scale_fn\n",
        "            self.scale_mode = scale_mode\n",
        "        self.clr_iterations = 0.\n",
        "        self.trn_iterations = 0.\n",
        "        self.history = {}\n",
        "\n",
        "        self._reset()\n",
        "\n",
        "    def _reset(self, new_base_lr=None, new_max_lr=None,\n",
        "               new_step_size=None):\n",
        "        \"\"\"Resets cycle iterations.\n",
        "        Optional boundary/step size adjustment.\n",
        "        \"\"\"\n",
        "        if new_base_lr != None:\n",
        "            self.base_lr = new_base_lr\n",
        "        if new_max_lr != None:\n",
        "            self.max_lr = new_max_lr\n",
        "        if new_step_size != None:\n",
        "            self.step_size = new_step_size\n",
        "        self.clr_iterations = 0.\n",
        "\n",
        "    def clr(self):\n",
        "        cycle = np.floor(1+self.clr_iterations/(2*self.step_size))\n",
        "        x = np.abs(self.clr_iterations/self.step_size - 2*cycle + 1)\n",
        "        if self.scale_mode == 'cycle':\n",
        "            return self.base_lr + (self.max_lr-self.base_lr)*np.maximum(0, (1-x))*self.scale_fn(cycle)\n",
        "        else:\n",
        "            return self.base_lr + (self.max_lr-self.base_lr)*np.maximum(0, (1-x))*self.scale_fn(self.clr_iterations)\n",
        "\n",
        "    def on_train_begin(self, logs={}):\n",
        "        logs = logs or {}\n",
        "\n",
        "        if self.clr_iterations == 0:\n",
        "            K.set_value(self.model.optimizer.lr, self.base_lr)\n",
        "        else:\n",
        "            K.set_value(self.model.optimizer.lr, self.clr())\n",
        "\n",
        "    def on_batch_end(self, epoch, logs=None):\n",
        "\n",
        "        logs = logs or {}\n",
        "        self.trn_iterations += 1\n",
        "        self.clr_iterations += 1\n",
        "\n",
        "        self.history.setdefault('lr', []).append(K.get_value(self.model.optimizer.lr))\n",
        "        self.history.setdefault('iterations', []).append(self.trn_iterations)\n",
        "\n",
        "        for k, v in logs.items():\n",
        "            self.history.setdefault(k, []).append(v)\n",
        "\n",
        "        K.set_value(self.model.optimizer.lr, self.clr())\n"
      ],
      "metadata": {
        "id": "nQRUrt2VENgG"
      },
      "id": "nQRUrt2VENgG",
      "execution_count": null,
      "outputs": []
    },
    {
      "cell_type": "code",
      "execution_count": null,
      "metadata": {
        "id": "e967fd0f-1e35-475f-95c2-1de7b0961bf0"
      },
      "outputs": [],
      "source": [
        "# from keras.optimizers import SGD, Adam\n",
        "\n",
        "# # (re)-initialise the optimiser and compile the model\n",
        "# opt = SGD(lr=0.0, momentum=0.9, nesterov=True)\n",
        "# clr = CyclicLR(\n",
        "#   mode='triangular2',\n",
        "#   base_lr=1e-5,\n",
        "#   max_lr=1e-3,\n",
        "#   step_size=8800\n",
        "# )\n",
        "# clr._reset()\n",
        "# model.compile(loss='categorical_crossentropy',\n",
        "#               optimizer=opt, metrics=['acc'])"
      ],
      "id": "e967fd0f-1e35-475f-95c2-1de7b0961bf0"
    },
    {
      "cell_type": "markdown",
      "metadata": {
        "id": "11da108e-00a4-4dae-bd8a-9e4cb50b3b64"
      },
      "source": [
        "### Train the model"
      ],
      "id": "11da108e-00a4-4dae-bd8a-9e4cb50b3b64"
    },
    {
      "cell_type": "code",
      "execution_count": null,
      "metadata": {
        "id": "7f60b9cb-cd81-4569-8d23-1d9cda139054"
      },
      "outputs": [],
      "source": [
        "model.compile(optimizer=\"adam\", loss=\"categorical_crossentropy\", metrics='acc')"
      ],
      "id": "7f60b9cb-cd81-4569-8d23-1d9cda139054"
    },
    {
      "cell_type": "code",
      "execution_count": null,
      "metadata": {
        "id": "45baea20-e7dd-447a-bc81-09a1bebe82b7"
      },
      "outputs": [],
      "source": [
        "val_dataset = tf.data.Dataset.from_tensor_slices((x_test, y_test)).batch(64)\n",
        "history = model.fit(x_train, y_train, batch_size=64, epochs=10, shuffle=True, validation_data=val_dataset)"
      ],
      "id": "45baea20-e7dd-447a-bc81-09a1bebe82b7"
    },
    {
      "cell_type": "code",
      "execution_count": null,
      "metadata": {
        "id": "1d349a23-1334-470d-8e04-bbe1b1719193"
      },
      "outputs": [],
      "source": [],
      "id": "1d349a23-1334-470d-8e04-bbe1b1719193"
    },
    {
      "cell_type": "markdown",
      "metadata": {
        "id": "43346de0-ff94-465e-a591-75e1325c67ab"
      },
      "source": [
        "### Plot some results"
      ],
      "id": "43346de0-ff94-465e-a591-75e1325c67ab"
    },
    {
      "cell_type": "code",
      "execution_count": null,
      "metadata": {
        "id": "fa1d703b-8eb1-4abc-aee8-b12b4217895e"
      },
      "outputs": [],
      "source": [
        "# summarize history for accuracy\n",
        "plt.plot(history.history['acc'])\n",
        "plt.plot(history.history['val_acc'])\n",
        "plt.title('model accuracy')\n",
        "plt.ylabel('accuracy')\n",
        "plt.xlabel('epoch')\n",
        "plt.legend(['train', 'test'], loc='upper left')\n",
        "plt.show()"
      ],
      "id": "fa1d703b-8eb1-4abc-aee8-b12b4217895e"
    },
    {
      "cell_type": "code",
      "execution_count": null,
      "metadata": {
        "id": "5888c08b-9ae7-411b-b734-855408fe48fd"
      },
      "outputs": [],
      "source": [
        "# summarize history for loss\n",
        "plt.plot(history.history['loss'])\n",
        "plt.plot(history.history['val_loss'])\n",
        "plt.title('model loss')\n",
        "plt.ylabel('loss')\n",
        "plt.xlabel('epoch')\n",
        "plt.legend(['train', 'test'], loc='upper left')\n",
        "plt.show()"
      ],
      "id": "5888c08b-9ae7-411b-b734-855408fe48fd"
    },
    {
      "cell_type": "code",
      "execution_count": null,
      "metadata": {
        "id": "cccbd980-4154-44a4-846c-9fa5f8384ea2"
      },
      "outputs": [],
      "source": [
        "loss, acc = model.evaluate(val_dataset)\n",
        "print(\"loss: %.2f\" % loss)\n",
        "print(\"acc:  %.2f\" % acc)"
      ],
      "id": "cccbd980-4154-44a4-846c-9fa5f8384ea2"
    },
    {
      "cell_type": "code",
      "execution_count": null,
      "metadata": {
        "id": "30f589f9-6296-4fce-989d-9b354bafc70e"
      },
      "outputs": [],
      "source": [],
      "id": "30f589f9-6296-4fce-989d-9b354bafc70e"
    },
    {
      "cell_type": "markdown",
      "metadata": {
        "id": "d01dfc5e-a3e4-464b-8214-74ea5c433faa"
      },
      "source": [
        "### Get the confusion matrix to see what we struggle with"
      ],
      "id": "d01dfc5e-a3e4-464b-8214-74ea5c433faa"
    },
    {
      "cell_type": "code",
      "execution_count": null,
      "metadata": {
        "id": "ea3997e6-2f1c-436d-b7f9-b3aa1302d314"
      },
      "outputs": [],
      "source": [
        "\"\"\"\n",
        "visualisation_utils.py\n",
        "\n",
        "make pretty graphs to show classifier performance\n",
        "\n",
        "(most of these are based on the really useful examples from the\n",
        "scikit learn user guides!)\n",
        "\n",
        "author:     alex shenfield\n",
        "date:       27/04/2018\n",
        "\"\"\"\n",
        "\n",
        "# numpy is needed for everything :)\n",
        "import numpy as np\n",
        "import matplotlib.pyplot as plt\n",
        "\n",
        "# utilities for managing the data\n",
        "import itertools\n",
        "\n",
        "# data analysis functions from scikit learn\n",
        "from sklearn.metrics import confusion_matrix\n",
        "\n",
        "\n",
        "# get the classes and actually plot the confusion matrix\n",
        "def plot_confusion_matrix(y_true, y_pred):\n",
        "\n",
        "    cm = confusion_matrix(y_true, y_pred)\n",
        "    classes = np.unique(y_true)\n",
        "    plot_cm(cm, classes=classes, title=None)\n",
        "\n",
        "\n",
        "# define a function for plotting a confusion matrix\n",
        "def plot_cm(cm,\n",
        "            classes,\n",
        "            normalize=False,\n",
        "            title='Confusion matrix',\n",
        "            cmap=plt.cm.Blues):\n",
        "\n",
        "    # should we normalise the confusion matrix?\n",
        "    if normalize:\n",
        "        cm = cm.astype('float') / cm.sum(axis=1)[:, np.newaxis]\n",
        "        print('Confusion matrix, with normalization')\n",
        "    else:\n",
        "        print('Confusion matrix, without normalization')\n",
        "\n",
        "    # display in command windows\n",
        "    print(cm)\n",
        "\n",
        "    # create a plot for the confusion matrix\n",
        "    plt.imshow(cm, interpolation='nearest', cmap=cmap)\n",
        "    plt.colorbar()\n",
        "    tick_marks = np.arange(len(classes))\n",
        "    plt.xticks(tick_marks, classes, rotation=45)\n",
        "    plt.yticks(tick_marks, classes)\n",
        "\n",
        "    # if we want a title displayed\n",
        "    if title:\n",
        "        plt.title(title)\n",
        "\n",
        "    fmt = '.3f' if normalize else 'd'\n",
        "    thresh = cm.max() / 2.\n",
        "    for i, j in itertools.product(range(cm.shape[0]), range(cm.shape[1])):\n",
        "        plt.text(j, i, format(cm[i, j], fmt),\n",
        "                 horizontalalignment=\"center\",\n",
        "                 color=\"white\" if cm[i, j] > thresh else \"black\")\n",
        "\n",
        "    #plt.tight_layout()\n",
        "    plt.ylabel('True label')\n",
        "    plt.xlabel('Predicted label')"
      ],
      "id": "ea3997e6-2f1c-436d-b7f9-b3aa1302d314"
    },
    {
      "cell_type": "code",
      "execution_count": null,
      "metadata": {
        "id": "15b10c41-92b1-4e3b-8169-3b53c51a5d44"
      },
      "outputs": [],
      "source": [
        "predictions = model.predict(val_dataset)\n",
        "print(predictions.shape)"
      ],
      "id": "15b10c41-92b1-4e3b-8169-3b53c51a5d44"
    },
    {
      "cell_type": "code",
      "execution_count": null,
      "metadata": {
        "id": "5fe5f2d9-b080-427f-b08d-8371584f3e21"
      },
      "outputs": [],
      "source": [
        "y_true = np.argmax(y_test, axis=1)\n",
        "y_pred = np.argmax(predictions, axis=1)\n",
        "print(y_true.shape)\n",
        "print(y_pred.shape)"
      ],
      "id": "5fe5f2d9-b080-427f-b08d-8371584f3e21"
    },
    {
      "cell_type": "code",
      "execution_count": null,
      "metadata": {
        "id": "e877e6db-94c7-4d38-b361-ea87f752fb02"
      },
      "outputs": [],
      "source": [
        "plot_confusion_matrix(y_true, y_pred)"
      ],
      "id": "e877e6db-94c7-4d38-b361-ea87f752fb02"
    },
    {
      "cell_type": "code",
      "source": [
        "endTime = time.time()\n",
        "\n",
        "print(endTime - startTime)"
      ],
      "metadata": {
        "id": "vcYh5pZ5kNSl"
      },
      "id": "vcYh5pZ5kNSl",
      "execution_count": null,
      "outputs": []
    }
  ],
  "metadata": {
    "accelerator": "GPU",
    "colab": {
      "provenance": [],
      "machine_shape": "hm",
      "gpuType": "T4",
      "include_colab_link": true
    },
    "kernelspec": {
      "display_name": "Python 3",
      "name": "python3"
    },
    "language_info": {
      "codemirror_mode": {
        "name": "ipython",
        "version": 3
      },
      "file_extension": ".py",
      "mimetype": "text/x-python",
      "name": "python",
      "nbconvert_exporter": "python",
      "pygments_lexer": "ipython3",
      "version": "3.9.15"
    }
  },
  "nbformat": 4,
  "nbformat_minor": 5
}